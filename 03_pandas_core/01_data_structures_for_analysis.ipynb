{
 "cells": [
  {
   "cell_type": "markdown",
   "source": [
    "# Module 3 (Pandas Core): Data Structures "
   ],
   "metadata": {}
  },
  {
   "cell_type": "markdown",
   "source": [
    "## Table of Contents\n",
    "\n",
    "- [Import Libraries](#import-libraries)\n",
    "- [Objects](#objects)\n",
    "- [Key Data Structure](#key-data-structure)\n",
    "- [Built-in Sequences](#built-in-sequences)\n",
    "    - [List](#list)\n",
    "    - [Dictionary](#dictionary)\n",
    "    - [Tuples](#tuples)"
   ],
   "metadata": {}
  },
  {
   "cell_type": "markdown",
   "source": [
    "## Import libraries <a class=\"anchor\" id=\"import-libraries\"></a>"
   ],
   "metadata": {}
  },
  {
   "cell_type": "code",
   "execution_count": 29,
   "source": [
    "import pandas as pd\n",
    "import numpy as mp\n",
    "from pandas_extensions.database import collect_data"
   ],
   "outputs": [],
   "metadata": {}
  },
  {
   "cell_type": "markdown",
   "source": [
    "## Objects <a class=\"anchor\" id=\"objects\"></a>"
   ],
   "metadata": {}
  },
  {
   "cell_type": "code",
   "execution_count": 30,
   "source": [
    "# Import data\n",
    "df = pd.DataFrame(collect_data())\n",
    "# Get object class\n",
    "print(type(df))"
   ],
   "outputs": [
    {
     "output_type": "stream",
     "name": "stdout",
     "text": [
      "<class 'pandas.core.frame.DataFrame'>\n"
     ]
    }
   ],
   "metadata": {}
  },
  {
   "cell_type": "code",
   "execution_count": 31,
   "source": [
    "# Get the object's inheritance structure in the order that methods are searched for\n",
    "print(type(df).mro())"
   ],
   "outputs": [
    {
     "output_type": "stream",
     "name": "stdout",
     "text": [
      "[<class 'pandas.core.frame.DataFrame'>, <class 'pandas.core.generic.NDFrame'>, <class 'pandas.core.base.PandasObject'>, <class 'pandas.core.accessor.DirNamesMixin'>, <class 'pandas.core.base.SelectionMixin'>, <class 'pandas.core.indexing.IndexingMixin'>, <class 'pandas.core.arraylike.OpsMixin'>, <class 'object'>]\n"
     ]
    }
   ],
   "metadata": {}
  },
  {
   "cell_type": "markdown",
   "source": [
    "It turns out that Python's objects get methods and attributes from the classes that they inherit from. The output above is the search path similar to R's pacakge environments. This allows us to use methods from all the classes in the inheritance structure."
   ],
   "metadata": {}
  },
  {
   "cell_type": "code",
   "execution_count": 32,
   "source": [
    "# Objects have attributes\n",
    "# Vscode shows object attributes with the wrench icon\n",
    "print(df.shape)\n"
   ],
   "outputs": [
    {
     "output_type": "stream",
     "name": "stdout",
     "text": [
      "(15644, 13)\n"
     ]
    }
   ],
   "metadata": {}
  },
  {
   "cell_type": "code",
   "execution_count": 33,
   "source": [
    "print(df.columns)"
   ],
   "outputs": [
    {
     "output_type": "stream",
     "name": "stdout",
     "text": [
      "Index(['order_id', 'order_line', 'order_date', 'quantity', 'price',\n",
      "       'total_revenue', 'model', 'category_1', 'category_2', 'frame_material',\n",
      "       'bikeshop_name', 'city', 'state'],\n",
      "      dtype='object')\n"
     ]
    }
   ],
   "metadata": {}
  },
  {
   "cell_type": "code",
   "execution_count": 34,
   "source": [
    "# Objects have methods\n",
    "# Vscode shows object methods with the cube\n",
    "print(df.query(\"order_id == 3\"))"
   ],
   "outputs": [
    {
     "output_type": "stream",
     "name": "stdout",
     "text": [
      "   order_id  order_line order_date  quantity  price  total_revenue  \\\n",
      "4         3           1 2011-01-10         1  10660          10660   \n",
      "5         3           2 2011-01-10         1   3200           3200   \n",
      "6         3           3 2011-01-10         1  12790          12790   \n",
      "7         3           4 2011-01-10         1   5330           5330   \n",
      "8         3           5 2011-01-10         1   1570           1570   \n",
      "\n",
      "                            model category_1      category_2 frame_material  \\\n",
      "4        Supersix Evo Hi-Mod Team       Road      Elite Road         Carbon   \n",
      "5                 Jekyll Carbon 4   Mountain   Over Mountain         Carbon   \n",
      "6         Supersix Evo Black Inc.       Road      Elite Road         Carbon   \n",
      "7  Supersix Evo Hi-Mod Dura Ace 2       Road      Elite Road         Carbon   \n",
      "8                Synapse Disc 105       Road  Endurance Road       Aluminum   \n",
      "\n",
      "               bikeshop_name        city state  \n",
      "4  Louisville Race Equipment  Louisville    KY  \n",
      "5  Louisville Race Equipment  Louisville    KY  \n",
      "6  Louisville Race Equipment  Louisville    KY  \n",
      "7  Louisville Race Equipment  Louisville    KY  \n",
      "8  Louisville Race Equipment  Louisville    KY  \n"
     ]
    }
   ],
   "metadata": {}
  },
  {
   "cell_type": "markdown",
   "source": [
    "## Key data structure <a class=\"anchor\" id=\"key-data-structure\"></a>\n",
    "\n",
    "Data frame is a key structure that holds Pandas series; it has columns and index attributes. The data frame is an object with many methods."
   ],
   "metadata": {}
  },
  {
   "cell_type": "code",
   "execution_count": 35,
   "source": [
    "# Each column in a data frame is a pandas series\n",
    "print(type(df[\"order_date\"]))"
   ],
   "outputs": [
    {
     "output_type": "stream",
     "name": "stdout",
     "text": [
      "<class 'pandas.core.series.Series'>\n"
     ]
    }
   ],
   "metadata": {}
  },
  {
   "cell_type": "code",
   "execution_count": 36,
   "source": [
    "# Each series has methods that are dependent on its attributes\n",
    "# Accessors can be used to call the series attribute \"dt\" and extract the year from the column\n",
    "df[\"order_date\"].dt.year"
   ],
   "outputs": [
    {
     "output_type": "execute_result",
     "data": {
      "text/plain": [
       "0        2011\n",
       "1        2011\n",
       "2        2011\n",
       "3        2011\n",
       "4        2011\n",
       "         ... \n",
       "15639    2015\n",
       "15640    2015\n",
       "15641    2015\n",
       "15642    2015\n",
       "15643    2015\n",
       "Name: order_date, Length: 15644, dtype: int64"
      ]
     },
     "metadata": {},
     "execution_count": 36
    }
   ],
   "metadata": {}
  },
  {
   "cell_type": "markdown",
   "source": [
    "Pandas series are built on top of Numpy arrays. The series adds an index and meta data like series name. The Numpy array then provides core functionality, like `numpy.sum()`."
   ],
   "metadata": {}
  },
  {
   "cell_type": "code",
   "execution_count": 37,
   "source": [
    "# Acess the array from the series\n",
    "df[\"order_date\"].values"
   ],
   "outputs": [
    {
     "output_type": "execute_result",
     "data": {
      "text/plain": [
       "array(['2011-01-07T00:00:00.000000000', '2011-01-07T00:00:00.000000000',\n",
       "       '2011-01-10T00:00:00.000000000', ...,\n",
       "       '2015-12-25T00:00:00.000000000', '2015-12-25T00:00:00.000000000',\n",
       "       '2015-12-25T00:00:00.000000000'], dtype='datetime64[ns]')"
      ]
     },
     "metadata": {},
     "execution_count": 37
    }
   ],
   "metadata": {}
  },
  {
   "cell_type": "code",
   "execution_count": 38,
   "source": [
    "# Get type\n",
    "type(df[\"order_date\"].values)"
   ],
   "outputs": [
    {
     "output_type": "execute_result",
     "data": {
      "text/plain": [
       "numpy.ndarray"
      ]
     },
     "metadata": {},
     "execution_count": 38
    }
   ],
   "metadata": {}
  },
  {
   "cell_type": "code",
   "execution_count": 39,
   "source": [
    "# The numpy array is actually a low level object that only has \"object\" in its inheritance\n",
    "type(df[\"order_date\"].values).mro()"
   ],
   "outputs": [
    {
     "output_type": "execute_result",
     "data": {
      "text/plain": [
       "[numpy.ndarray, object]"
      ]
     },
     "metadata": {},
     "execution_count": 39
    }
   ],
   "metadata": {}
  },
  {
   "cell_type": "markdown",
   "source": [
    "Numpy data types are extended built-in data types. It uses special data types (e.g. int64), which are usually optimized for memory allocation. "
   ],
   "metadata": {}
  },
  {
   "cell_type": "code",
   "execution_count": 40,
   "source": [
    "# Get classes and the data types that the numpy arrays actually contain\n",
    "print(df[\"price\"].values.dtype)\n",
    "print(df[\"order_date\"].values.dtype)"
   ],
   "outputs": [
    {
     "output_type": "stream",
     "name": "stdout",
     "text": [
      "int64\n",
      "datetime64[ns]\n"
     ]
    }
   ],
   "metadata": {}
  },
  {
   "cell_type": "markdown",
   "source": [
    "## Built-in sequences <a class=\"anchor\" id=\"built-in-sequences\"></a>"
   ],
   "metadata": {}
  },
  {
   "cell_type": "markdown",
   "source": [
    "*Container sequences*\n",
    "\n",
    "- list, tuple, and collections.deque can hold items of different types, including nested containers.\n",
    "\n",
    "*Flat sequences*\n",
    "\n",
    "- str, bytes, bytearray, memoryview, and array.array hold items of one simple type.\n",
    "  \n",
    "Another way to group these sequences is by mutability: \n",
    "\n",
    "*Mutable sequences*\n",
    "\n",
    "- list, bytearray, array.array, collections.deque, and memoryview\n",
    "\n",
    "*Immutable sequences*\n",
    "\n",
    "- tuple, str, and bytes\n",
    "\n",
    "\n",
    "One important distinction between container and flat sequences is: A container sequence holds references to the objects it contains, which may be of any type, while a flat sequence stores the value of its contents in its own memory space, and not as distinct objects. Examine the diagram below:\n",
    "\n",
    "<p align=\"center\">\n",
    "  <img width=\"600\" height=\"250\" img src=\"Image/sequence.png\">\n",
    "</p>\n",
    "\n",
    "Here is a really nice visualization of the Python object ecosystem:\n",
    "\n",
    "<p align=\"center\">\n",
    "  <img width=\"700\" height=\"500\" img src=\"Image/data_structure.png\">\n",
    "</p>\n",
    "\n",
    "[Link](https://medium.com/@meghamohan/mutable-and-immutable-side-of-python-c2145cf72747)\n"
   ],
   "metadata": {}
  },
  {
   "cell_type": "markdown",
   "source": [
    "### List <a class=\"anchor\" id=\"list\"></a>\n",
    "\n",
    "Lists are Python’s most flexible ordered collection object type. Unlike strings, lists can contain any sort of object: numbers, strings, and even other lists. Also, unlike strings, lists may be *changed in place* by assignment to offsets and slices, list method calls, deletion statements, and more—they are **mutable** objects. Some properties are:\n",
    "\n",
    "**Ordered collections of arbitrary objects**\n",
    "- From a functional view, lists are just places to collect other objects so you can treat them as groups. Lists also maintain a left-to-right positional ordering among the items they contain (i.e., they are sequences)\n",
    "  \n",
    "**Accessed by offset**\n",
    "- Just as with strings, you can fetch a component object out of a list by indexing the list on the object’s offset. Because items in lists are ordered by their positions, you can also do tasks such as slicing and concatenation.\n",
    "\n",
    "**Variable-length, heterogeneous, and arbitrarily nestable**\n",
    "- Unlike strings, lists can grow and shrink in place (their lengths can vary), and they can contain any sort of object, not just one-character strings (they’re heterogeneous). Because lists can contain other complex objects, they also support arbitrary nesting; you can create lists of lists of lists, and so on.\n",
    "\n",
    "**Of the category “mutable sequence”**\n",
    "- In terms of our type category qualifiers, lists are mutable (i.e., can be changed in place) and can respond to all the sequence operations used with strings, such as indexing, slicing, and concatenation. In fact, sequence operations work the same on lists as they do on strings; the only difference is that sequence operations such as concatenation and slicing return new lists instead of new strings when applied to lists. Because lists are mutable, however, they also support other operations that strings don’t, such as deletion and index assignment operations, which change the lists in place.\n",
    "\n",
    "**Arrays of object references**\n",
    "- Technically, Python lists contain zero or more references to other objects. Lists might thought of as arrays of pointers (addresses). "
   ],
   "metadata": {}
  },
  {
   "cell_type": "code",
   "execution_count": 41,
   "source": [
    "# Empty list\n",
    "L = []\n",
    "print(L)\n"
   ],
   "outputs": [
    {
     "output_type": "stream",
     "name": "stdout",
     "text": [
      "[]\n"
     ]
    }
   ],
   "metadata": {}
  },
  {
   "cell_type": "code",
   "execution_count": 42,
   "source": [
    "# Create list with 4 elements with indices 0:3\n",
    "L = [123, 'abc', 1.23, {}]\n",
    "print(L)\n"
   ],
   "outputs": [
    {
     "output_type": "stream",
     "name": "stdout",
     "text": [
      "[123, 'abc', 1.23, {}]\n"
     ]
    }
   ],
   "metadata": {}
  },
  {
   "cell_type": "code",
   "execution_count": 43,
   "source": [
    "# Nested Sublist\n",
    "L = ['Bob', 40.0, ['dev', 'mgr']]\n",
    "print(L)\n"
   ],
   "outputs": [
    {
     "output_type": "stream",
     "name": "stdout",
     "text": [
      "['Bob', 40.0, ['dev', 'mgr']]\n"
     ]
    }
   ],
   "metadata": {}
  },
  {
   "cell_type": "code",
   "execution_count": 44,
   "source": [
    "# List of values from -4 to 4\n",
    "list(range(-4, 4))"
   ],
   "outputs": [
    {
     "output_type": "execute_result",
     "data": {
      "text/plain": [
       "[-4, -3, -2, -1, 0, 1, 2, 3]"
      ]
     },
     "metadata": {},
     "execution_count": 44
    }
   ],
   "metadata": {}
  },
  {
   "cell_type": "code",
   "execution_count": 45,
   "source": [
    "# Subseting\n",
    "L[0]"
   ],
   "outputs": [
    {
     "output_type": "execute_result",
     "data": {
      "text/plain": [
       "'Bob'"
      ]
     },
     "metadata": {},
     "execution_count": 45
    }
   ],
   "metadata": {}
  },
  {
   "cell_type": "code",
   "execution_count": 46,
   "source": [
    "# Index of index\n",
    "# The third element is a sublist and we extract the fist element from this sublist\n",
    "print(L[2][0])\n",
    "# This should be a string\n",
    "print(type(L[2][0]))"
   ],
   "outputs": [
    {
     "output_type": "stream",
     "name": "stdout",
     "text": [
      "dev\n",
      "<class 'str'>\n"
     ]
    }
   ],
   "metadata": {}
  },
  {
   "cell_type": "code",
   "execution_count": 47,
   "source": [
    "# Slice to subset multiple elements\n",
    "# Notice that the last integer indexed element is not extracted, so slice is not inclusive\n",
    "L[0:2]"
   ],
   "outputs": [
    {
     "output_type": "execute_result",
     "data": {
      "text/plain": [
       "['Bob', 40.0]"
      ]
     },
     "metadata": {},
     "execution_count": 47
    }
   ],
   "metadata": {}
  },
  {
   "cell_type": "code",
   "execution_count": 48,
   "source": [
    "# Length is the number of elements\n",
    "len(L)"
   ],
   "outputs": [
    {
     "output_type": "execute_result",
     "data": {
      "text/plain": [
       "3"
      ]
     },
     "metadata": {},
     "execution_count": 48
    }
   ],
   "metadata": {}
  },
  {
   "cell_type": "code",
   "execution_count": 49,
   "source": [
    "# Concatenate, repeat\n",
    "print(L * 2)\n",
    "print(L + L + L)"
   ],
   "outputs": [
    {
     "output_type": "stream",
     "name": "stdout",
     "text": [
      "['Bob', 40.0, ['dev', 'mgr'], 'Bob', 40.0, ['dev', 'mgr']]\n",
      "['Bob', 40.0, ['dev', 'mgr'], 'Bob', 40.0, ['dev', 'mgr'], 'Bob', 40.0, ['dev', 'mgr']]\n"
     ]
    }
   ],
   "metadata": {}
  },
  {
   "cell_type": "code",
   "execution_count": 50,
   "source": [
    "# Iteration\n",
    "for var in L: print(var)"
   ],
   "outputs": [
    {
     "output_type": "stream",
     "name": "stdout",
     "text": [
      "Bob\n",
      "40.0\n",
      "['dev', 'mgr']\n"
     ]
    }
   ],
   "metadata": {}
  },
  {
   "cell_type": "code",
   "execution_count": 51,
   "source": [
    "# Membership (are these elements in the list?)\n",
    "print(3 in L)\n",
    "print(\"Bob\" in L)"
   ],
   "outputs": [
    {
     "output_type": "stream",
     "name": "stdout",
     "text": [
      "False\n",
      "True\n"
     ]
    }
   ],
   "metadata": {}
  },
  {
   "cell_type": "code",
   "execution_count": 52,
   "source": [
    "# Method grow\n",
    "# A list is mutable, modifies in place, and so growing in Python will not be memory inefficient like R\n",
    "L.append(False)\n",
    "print(L)"
   ],
   "outputs": [
    {
     "output_type": "stream",
     "name": "stdout",
     "text": [
      "['Bob', 40.0, ['dev', 'mgr'], False]\n"
     ]
    }
   ],
   "metadata": {}
  },
  {
   "cell_type": "code",
   "execution_count": 53,
   "source": [
    "# Method extend\n",
    "L.extend([5, 6, 7])\n",
    "print(L)"
   ],
   "outputs": [
    {
     "output_type": "stream",
     "name": "stdout",
     "text": [
      "['Bob', 40.0, ['dev', 'mgr'], False, 5, 6, 7]\n"
     ]
    }
   ],
   "metadata": {}
  },
  {
   "cell_type": "code",
   "execution_count": 54,
   "source": [
    "# Method insert\n",
    "# Insert string object as the fifth element\n",
    "L.insert(4, \"Ken\")\n",
    "print(L)"
   ],
   "outputs": [
    {
     "output_type": "stream",
     "name": "stdout",
     "text": [
      "['Bob', 40.0, ['dev', 'mgr'], False, 'Ken', 5, 6, 7]\n"
     ]
    }
   ],
   "metadata": {}
  },
  {
   "cell_type": "code",
   "execution_count": 55,
   "source": [
    "# Method searching\n",
    "# Get the index of the element\n",
    "# This is similar to match() in R\n",
    "print(L)\n",
    "print(L.index(\"Ken\"))\n",
    "print(L.index(40))"
   ],
   "outputs": [
    {
     "output_type": "stream",
     "name": "stdout",
     "text": [
      "['Bob', 40.0, ['dev', 'mgr'], False, 'Ken', 5, 6, 7]\n",
      "4\n",
      "1\n"
     ]
    }
   ],
   "metadata": {}
  },
  {
   "cell_type": "code",
   "execution_count": 56,
   "source": [
    "# Method count returns the number of elements with the specified value\n",
    "L.count(False)"
   ],
   "outputs": [
    {
     "output_type": "execute_result",
     "data": {
      "text/plain": [
       "1"
      ]
     },
     "metadata": {},
     "execution_count": 56
    }
   ],
   "metadata": {}
  },
  {
   "cell_type": "code",
   "execution_count": 57,
   "source": [
    "# Sort by descending order\n",
    "# The default for sort is ascending, i.e., reverse=False\n",
    "L_1 = [3, 4, 9, 3, 2, 24, 45, 13, 9]\n",
    "L_1.sort(reverse=True)\n",
    "print(L_1)"
   ],
   "outputs": [
    {
     "output_type": "stream",
     "name": "stdout",
     "text": [
      "[45, 24, 13, 9, 9, 4, 3, 3, 2]\n"
     ]
    }
   ],
   "metadata": {}
  },
  {
   "cell_type": "code",
   "execution_count": 58,
   "source": [
    "# Reverse the list\n",
    "L_2 = [3, 4, 5, 7]\n",
    "L_2.reverse()\n",
    "print(L_2)"
   ],
   "outputs": [
    {
     "output_type": "stream",
     "name": "stdout",
     "text": [
      "[7, 5, 4, 3]\n"
     ]
    }
   ],
   "metadata": {}
  },
  {
   "cell_type": "code",
   "execution_count": 59,
   "source": [
    "# Copy creates a copy of the list\n",
    "L_new = L.copy()\n",
    "# Copy on modify\n",
    "L_new[2] = 9\n",
    "# Check new modified copy\n",
    "print(L_new)\n",
    "# Check original object (should be unchanged)\n",
    "print(L)\n"
   ],
   "outputs": [
    {
     "output_type": "stream",
     "name": "stdout",
     "text": [
      "['Bob', 40.0, 9, False, 'Ken', 5, 6, 7]\n",
      "['Bob', 40.0, ['dev', 'mgr'], False, 'Ken', 5, 6, 7]\n"
     ]
    }
   ],
   "metadata": {}
  },
  {
   "cell_type": "code",
   "execution_count": 60,
   "source": [
    "# Before clear\n",
    "print(L_1)\n",
    "print(L_2)\n",
    "# Clear all elements\n",
    "L_1.clear()\n",
    "L_2.clear()\n",
    "# Now L_1 and L_2 should be empty lists\n",
    "print(L_1)\n",
    "print(L_2)"
   ],
   "outputs": [
    {
     "output_type": "stream",
     "name": "stdout",
     "text": [
      "[45, 24, 13, 9, 9, 4, 3, 3, 2]\n",
      "[7, 5, 4, 3]\n",
      "[]\n",
      "[]\n"
     ]
    }
   ],
   "metadata": {}
  },
  {
   "cell_type": "code",
   "execution_count": 61,
   "source": [
    "# Pop removes element at the specified position\n",
    "print(L)\n",
    "# Remove the third element with index 2\n",
    "L.pop(2)\n",
    "# Examine the list after the removal\n",
    "print(L)"
   ],
   "outputs": [
    {
     "output_type": "stream",
     "name": "stdout",
     "text": [
      "['Bob', 40.0, ['dev', 'mgr'], False, 'Ken', 5, 6, 7]\n",
      "['Bob', 40.0, False, 'Ken', 5, 6, 7]\n"
     ]
    }
   ],
   "metadata": {}
  },
  {
   "cell_type": "code",
   "execution_count": 62,
   "source": [
    "# Another way to remove by position\n",
    "print(L)\n",
    "# Remove the first element using del\n",
    "del L[0]\n",
    "print(L)"
   ],
   "outputs": [
    {
     "output_type": "stream",
     "name": "stdout",
     "text": [
      "['Bob', 40.0, False, 'Ken', 5, 6, 7]\n",
      "[40.0, False, 'Ken', 5, 6, 7]\n"
     ]
    }
   ],
   "metadata": {}
  },
  {
   "cell_type": "code",
   "execution_count": 63,
   "source": [
    "# Remove by name\n",
    "print(L)\n",
    "# Remove by value name\n",
    "L.remove(False)\n",
    "print(L)"
   ],
   "outputs": [
    {
     "output_type": "stream",
     "name": "stdout",
     "text": [
      "[40.0, False, 'Ken', 5, 6, 7]\n",
      "[40.0, 'Ken', 5, 6, 7]\n"
     ]
    }
   ],
   "metadata": {}
  },
  {
   "cell_type": "code",
   "execution_count": 64,
   "source": [
    "# Remove slices\n",
    "print(L_new)\n",
    "# Remove the first three elements of the list, 0, 1, 2 not including 3\n",
    "del L_new[0:3]\n",
    "print(L_new)"
   ],
   "outputs": [
    {
     "output_type": "stream",
     "name": "stdout",
     "text": [
      "['Bob', 40.0, 9, False, 'Ken', 5, 6, 7]\n",
      "[False, 'Ken', 5, 6, 7]\n"
     ]
    }
   ],
   "metadata": {}
  },
  {
   "cell_type": "code",
   "execution_count": 65,
   "source": [
    "# Subset and assignment\n",
    "# This is similar to list[1:3] <- NULL in R\n",
    "L = [3, \"ken\", [2, \"3\"], True]\n",
    "print(L)\n",
    "# Remove the first two elements 0 and 1\n",
    "# The element indexed by 2 is not included\n",
    "L[0:2] = []\n",
    "print(L)"
   ],
   "outputs": [
    {
     "output_type": "stream",
     "name": "stdout",
     "text": [
      "[3, 'ken', [2, '3'], True]\n",
      "[[2, '3'], True]\n"
     ]
    }
   ],
   "metadata": {}
  },
  {
   "cell_type": "code",
   "execution_count": 66,
   "source": [
    "# Subset one specific element and assign\n",
    "print(L)\n",
    "L[1] = 3\n",
    "print(L)"
   ],
   "outputs": [
    {
     "output_type": "stream",
     "name": "stdout",
     "text": [
      "[[2, '3'], True]\n",
      "[[2, '3'], 3]\n"
     ]
    }
   ],
   "metadata": {}
  },
  {
   "cell_type": "code",
   "execution_count": 67,
   "source": [
    "# Subset a slice and assign\n",
    "L = list(range(-4, 5))\n",
    "print(L)\n",
    "# Recall that the last indexed element is not included and the length of the slice L[3:7] is 4\n",
    "L[3:7] = [\"Ken\", \"needs\", \"a\", \"job\"]\n",
    "print(L)"
   ],
   "outputs": [
    {
     "output_type": "stream",
     "name": "stdout",
     "text": [
      "[-4, -3, -2, -1, 0, 1, 2, 3, 4]\n",
      "[-4, -3, -2, 'Ken', 'needs', 'a', 'job', 'now', 3, 4]\n"
     ]
    }
   ],
   "metadata": {}
  },
  {
   "cell_type": "markdown",
   "source": [
    "### Why Slices and Range Exclude the Last Item?\n",
    "\n",
    "The Pythonic convention of excluding the last item in slices and ranges works well with the zero-based indexing. Some convenient features are as follows:\n",
    "\n",
    "- It’s easy to see the length of a slice or range when only the stop position is given: `range(3)` and `my_list[:3]` both produce three items. This is not possible in R.\n",
    "  \n",
    "- It’s easy to compute the length of a slice or range when start and stop are given: just subtract stop - start. For instance, `my_list[4:15]` would returns a slice with `15 - 4 = 11` elements. Whereas in R, we need to think a bit about it and `my_list[4:15]` would return a list with `15 - 4 + 1 = 12` since the last item is included.\n",
    "  \n",
    "- It’s easy to split a sequence in two parts at any index x, without overlapping: simply get `my_list[:x]` and `my_list[x:]`\n"
   ],
   "metadata": {}
  },
  {
   "cell_type": "code",
   "execution_count": 70,
   "source": [
    "# Create a list\n",
    "L = [10, 20, 30, 40, 50, 60]\n",
    "print(L)\n",
    "# Split at 2\n",
    "# Or end at 2\n",
    "print(L[:2])\n",
    "# Split at 2\n",
    "# Or start at 2\n",
    "print(L[2:])"
   ],
   "outputs": [
    {
     "output_type": "stream",
     "name": "stdout",
     "text": [
      "[10, 20, 30, 40, 50, 60]\n",
      "[10, 20]\n",
      "[30, 40, 50, 60]\n"
     ]
    }
   ],
   "metadata": {}
  },
  {
   "cell_type": "markdown",
   "source": [
    "### Dictionary <a class=\"anchor\" id=\"dictionary\"></a>\n",
    "\n",
    "If we think of lists as ordered collections of objects, we can think of dictionaries as unordered collections; the chief distinction is that in dictionaries, items are *stored and fetched by key, instead of by positional offset*. The properties of dictionaries are as follows:\n",
    "\n",
    "**Accessed by key, not offset position**\n",
    "- Dictionaries are sometimes called associative arrays or hashes. They associate a set of values with keys, so you can fetch an item out of a dictionary using the key under which you originally stored it. You use the same indexing operation to get components in a dictionary as you do in a list, but the index takes the form of a key, not a relative offset.\n",
    "\n",
    "**Unordered collections of arbitrary objects**\n",
    "- Unlike in a list, items stored in a dictionary aren’t kept in any particular order; in fact, Python pseudo-randomizes their left-to-right order to provide quick lookup. Keys provide the symbolic (not physical) locations of items in a dictionary. CPython 3.6 started preserving the insertion order of the keys as an implementation detail, and Guido van Rossum declared it an offical language feature in Python 3.7, so we can depend on the insertion order of a dictionary now.\n",
    "\n",
    "**Variable-length, heterogeneous, and arbitrarily nestable**\n",
    "- Like lists, dictionaries can grow and shrink in place (without new copies being made), they can contain objects of any type, and they support nesting to any depth (they can contain lists, other dictionaries, and so on). Each key can have just one associated value, but that value can be a collection of multiple objects if needed, and a given value can be stored under any number of keys.\n",
    "\n",
    "**Of the category “mutable mapping”**\n",
    "- You can change dictionaries in place by assigning to indexes (they are mutable), but they don’t support the sequence operations that work on strings and lists. Because dictionaries are unordered collections, operations that depend on a fixed positional order (e.g., concatenation, slicing) don’t make sense. Instead, diction- aries are the only built-in, core type representatives of the mapping category— objects that map keys to values.\n",
    "\n",
    "**Tables of object references (hash tables)**\n",
    "- If lists are arrays of object references that support access by position, *dictionaries are unordered tables of object references that support access by key*. Internally, dictionaries are implemented as hash tables (data structures that support very fast retrieval), which start small and grow on demand. Moreover, Python employs optimized hashing algorithms to find keys, so retrieval is quick. Like lists, dictionaries store object references (not copies, unless you ask for them explicitly).\n"
   ],
   "metadata": {}
  },
  {
   "cell_type": "code",
   "execution_count": 71,
   "source": [
    "# Empty dictionary\n",
    "D = {}\n",
    "print(D)"
   ],
   "outputs": [
    {
     "output_type": "stream",
     "name": "stdout",
     "text": [
      "{}\n"
     ]
    }
   ],
   "metadata": {}
  },
  {
   "cell_type": "code",
   "execution_count": 72,
   "source": [
    "# Two item (key-value pairs) dictionary\n",
    "D = {'name': 'Bob', 'age': 40}\n",
    "print(D)"
   ],
   "outputs": [
    {
     "output_type": "stream",
     "name": "stdout",
     "text": [
      "{'name': 'Bob', 'age': 40}\n"
     ]
    }
   ],
   "metadata": {}
  },
  {
   "cell_type": "code",
   "execution_count": 73,
   "source": [
    "# Nesting where a key is associated with a value that is another dictionary\n",
    "E = {'cto': {'name': 'Bob', 'age': 40}}\n",
    "print(E)"
   ],
   "outputs": [
    {
     "output_type": "stream",
     "name": "stdout",
     "text": [
      "{'cto': {'name': 'Bob', 'age': 40}}\n"
     ]
    }
   ],
   "metadata": {}
  },
  {
   "cell_type": "code",
   "execution_count": null,
   "source": [
    "# Alternative ways to create dictionary\n",
    "D = dict(name='Bob', age=40)\n",
    "print(D)"
   ],
   "outputs": [],
   "metadata": {}
  },
  {
   "cell_type": "code",
   "execution_count": 74,
   "source": [
    "# Using tuples\n",
    "print(type(('name', 'Bob')))\n",
    "# Create dictionary\n",
    "D = dict([('name', 'Bob'), ('age', 40)])\n",
    "print(D)"
   ],
   "outputs": [
    {
     "output_type": "stream",
     "name": "stdout",
     "text": [
      "<class 'tuple'>\n",
      "{'name': 'Bob', 'age': 40}\n"
     ]
    }
   ],
   "metadata": {}
  },
  {
   "cell_type": "code",
   "execution_count": 75,
   "source": [
    "# Using lists\n",
    "D = dict(zip([\"Ken\", \"Wu\"], [True, 3]))\n",
    "print(D)"
   ],
   "outputs": [
    {
     "output_type": "stream",
     "name": "stdout",
     "text": [
      "{'Ken': True, 'Wu': 3}\n"
     ]
    }
   ],
   "metadata": {}
  },
  {
   "cell_type": "code",
   "execution_count": 76,
   "source": [
    "# Keys and Values\n",
    "keys = {'a', 'e', 'i', 'o', 'u' }\n",
    "value = [1]\n",
    "# Using dictionary method\n",
    "D = dict.fromkeys(keys, value)\n",
    "print(D)\n",
    "# Updating the value\n",
    "value.append(7)\n",
    "print(D)"
   ],
   "outputs": [
    {
     "output_type": "stream",
     "name": "stdout",
     "text": [
      "{'o': [1], 'i': [1], 'e': [1], 'u': [1], 'a': [1]}\n",
      "{'o': [1, 7], 'i': [1, 7], 'e': [1, 7], 'u': [1, 7], 'a': [1, 7]}\n"
     ]
    }
   ],
   "metadata": {}
  },
  {
   "cell_type": "code",
   "execution_count": 78,
   "source": [
    "# Create a dictionary\n",
    "D = {'name': 'Bob', 'age': 40}\n",
    "# Index by key\n",
    "D['name']"
   ],
   "outputs": [
    {
     "output_type": "execute_result",
     "data": {
      "text/plain": [
       "'Bob'"
      ]
     },
     "metadata": {},
     "execution_count": 78
    }
   ],
   "metadata": {}
  },
  {
   "cell_type": "code",
   "execution_count": 80,
   "source": [
    "# Dictionary\n",
    "print(E)\n",
    "# Index of index\n",
    "# The value associated with \"cto\" is another dictionary, and we want to select the value with the key \"age\"\n",
    "E['cto']['age']"
   ],
   "outputs": [
    {
     "output_type": "stream",
     "name": "stdout",
     "text": [
      "{'cto': {'name': 'Bob', 'age': 40}}\n"
     ]
    },
    {
     "output_type": "execute_result",
     "data": {
      "text/plain": [
       "40"
      ]
     },
     "metadata": {},
     "execution_count": 80
    }
   ],
   "metadata": {}
  },
  {
   "cell_type": "code",
   "execution_count": 127,
   "source": [
    "# Create a dictionary\n",
    "temp_D = dict(zip(['firstKey', 'secondKey', 'thirdKey'], [3, 5, False]))\n",
    "print(temp_D)\n",
    "# Index multiple key-value pairs\n",
    "keys = ['firstKey', 'secondKey', 'thirdKey']\n",
    "for key in keys:\n",
    "    print(temp_D[key])"
   ],
   "outputs": [
    {
     "output_type": "stream",
     "name": "stdout",
     "text": [
      "{'firstKey': 3, 'secondKey': 5, 'thirdKey': False}\n",
      "3\n",
      "5\n",
      "False\n"
     ]
    }
   ],
   "metadata": {}
  },
  {
   "cell_type": "code",
   "execution_count": 128,
   "source": [
    "# Dictionary\n",
    "print(D)\n",
    "# Membership (Is the key present in the dictionary?)\n",
    "'age' in D"
   ],
   "outputs": [
    {
     "output_type": "stream",
     "name": "stdout",
     "text": [
      "{'Physics': 67, 'Maths': 87, 'Practical': 48}\n"
     ]
    },
    {
     "output_type": "execute_result",
     "data": {
      "text/plain": [
       "False"
      ]
     },
     "metadata": {},
     "execution_count": 128
    }
   ],
   "metadata": {}
  },
  {
   "cell_type": "code",
   "execution_count": 129,
   "source": [
    "# Method show all keys\n",
    "D.keys()"
   ],
   "outputs": [
    {
     "output_type": "execute_result",
     "data": {
      "text/plain": [
       "dict_keys(['Physics', 'Maths', 'Practical'])"
      ]
     },
     "metadata": {},
     "execution_count": 129
    }
   ],
   "metadata": {}
  },
  {
   "cell_type": "code",
   "execution_count": 130,
   "source": [
    "# Method show all values\n",
    "D.values()"
   ],
   "outputs": [
    {
     "output_type": "execute_result",
     "data": {
      "text/plain": [
       "dict_values([67, 87, 48])"
      ]
     },
     "metadata": {},
     "execution_count": 130
    }
   ],
   "metadata": {}
  },
  {
   "cell_type": "code",
   "execution_count": 131,
   "source": [
    "# Method show all key-value tuples\n",
    "# This is a dictionary item object\n",
    "D.items()"
   ],
   "outputs": [
    {
     "output_type": "execute_result",
     "data": {
      "text/plain": [
       "dict_items([('Physics', 67), ('Maths', 87), ('Practical', 48)])"
      ]
     },
     "metadata": {},
     "execution_count": 131
    }
   ],
   "metadata": {}
  },
  {
   "cell_type": "code",
   "execution_count": 132,
   "source": [
    "# Method create a copy\n",
    "New_D = D.copy()\n",
    "# Copy on modify\n",
    "New_D['name'] = 43\n",
    "# New dictionary\n",
    "print(New_D)\n",
    "# The original object should remain unchanged\n",
    "print(D)"
   ],
   "outputs": [
    {
     "output_type": "stream",
     "name": "stdout",
     "text": [
      "{'Physics': 67, 'Maths': 87, 'Practical': 48, 'name': 43}\n",
      "{'Physics': 67, 'Maths': 87, 'Practical': 48}\n"
     ]
    }
   ],
   "metadata": {}
  },
  {
   "cell_type": "code",
   "execution_count": 133,
   "source": [
    "# Method remove all items\n",
    "New_D.clear()\n",
    "print(New_D)"
   ],
   "outputs": [
    {
     "output_type": "stream",
     "name": "stdout",
     "text": [
      "{}\n"
     ]
    }
   ],
   "metadata": {}
  },
  {
   "cell_type": "code",
   "execution_count": 134,
   "source": [
    "# Method merge by key\n",
    "D = {'Physics': 67, 'Maths': 87}\n",
    "print(D)\n",
    "D2 = {'Practical': 48}\n",
    "print(D2)\n",
    "# Update\n",
    "D.update(D2)\n",
    "print(D)"
   ],
   "outputs": [
    {
     "output_type": "stream",
     "name": "stdout",
     "text": [
      "{'Physics': 67, 'Maths': 87}\n",
      "{'Practical': 48}\n",
      "{'Physics': 67, 'Maths': 87, 'Practical': 48}\n"
     ]
    }
   ],
   "metadata": {}
  },
  {
   "cell_type": "code",
   "execution_count": 135,
   "source": [
    "# The get() method returns the value for the specified key if the key is in the dictionary\n",
    "print(D)\n",
    "print(D.get('Practical'))"
   ],
   "outputs": [
    {
     "output_type": "stream",
     "name": "stdout",
     "text": [
      "{'Physics': 67, 'Maths': 87, 'Practical': 48}\n",
      "48\n"
     ]
    }
   ],
   "metadata": {}
  },
  {
   "cell_type": "code",
   "execution_count": 136,
   "source": [
    "# The get() method returns a default value if the key is missing\n",
    "# Unlike dict[key], a KeyError is raised when trying to get a missing key\n",
    "print(D.get('Hi', \"Key does not exist\"))"
   ],
   "outputs": [
    {
     "output_type": "stream",
     "name": "stdout",
     "text": [
      "Key does not exist\n"
     ]
    }
   ],
   "metadata": {}
  },
  {
   "cell_type": "code",
   "execution_count": 137,
   "source": [
    "# Method remove by key, if absent the the default value is returned (or error if no default is specified)\n",
    "D.pop('Hi', \"No key to delete\")"
   ],
   "outputs": [
    {
     "output_type": "execute_result",
     "data": {
      "text/plain": [
       "'No key to delete'"
      ]
     },
     "metadata": {},
     "execution_count": 137
    }
   ],
   "metadata": {}
  },
  {
   "cell_type": "code",
   "execution_count": 138,
   "source": [
    "# Dictionary\n",
    "print(D)\n",
    "# The setdefault() method returns the value of a key (if the key is in dictionary)\n",
    "# If not, it inserts key with a value to the dictionary\n",
    "D.setdefault('Yo', True)\n",
    "print(D)"
   ],
   "outputs": [
    {
     "output_type": "stream",
     "name": "stdout",
     "text": [
      "{'Physics': 67, 'Maths': 87, 'Practical': 48}\n",
      "{'Physics': 67, 'Maths': 87, 'Practical': 48, 'Yo': True}\n"
     ]
    }
   ],
   "metadata": {}
  },
  {
   "cell_type": "code",
   "execution_count": 139,
   "source": [
    "# The Python popitem() method removes and returns the last element (key, value) pair inserted into the dictionary\n",
    "# Before Python 3.7, the popitem() method returned and removed an arbitrary element (key, value) pair from the dictionary\n",
    "# This should remove the \"Yo\":True pair\n",
    "D.popitem()\n",
    "print(D)"
   ],
   "outputs": [
    {
     "output_type": "stream",
     "name": "stdout",
     "text": [
      "{'Physics': 67, 'Maths': 87, 'Practical': 48}\n"
     ]
    }
   ],
   "metadata": {}
  },
  {
   "cell_type": "code",
   "execution_count": 140,
   "source": [
    "# Length, which is the number of stroed entries\n",
    "len(D)"
   ],
   "outputs": [
    {
     "output_type": "execute_result",
     "data": {
      "text/plain": [
       "3"
      ]
     },
     "metadata": {},
     "execution_count": 140
    }
   ],
   "metadata": {}
  },
  {
   "cell_type": "code",
   "execution_count": 142,
   "source": [
    "# Dictionary\n",
    "print(D)\n",
    "# Adding changing keys\n",
    "D['Physics'] = 42\n",
    "D['New'] = \"Ken\"\n",
    "print(D)"
   ],
   "outputs": [
    {
     "output_type": "stream",
     "name": "stdout",
     "text": [
      "{'Physics': 42, 'Maths': 87, 'Practical': 48}\n",
      "{'Physics': 42, 'Maths': 87, 'Practical': 48, 'New': 'Ken'}\n"
     ]
    }
   ],
   "metadata": {}
  },
  {
   "cell_type": "code",
   "execution_count": 146,
   "source": [
    "# Dictionary\n",
    "print(D)\n",
    "# Changing multiple keys\n",
    "keys = ['Physics', 'YOLO', 'R']\n",
    "values = [100, False, \"studio\"]\n",
    "# Adding and changing multiple keys\n",
    "for (key, value) in zip(keys, values):\n",
    "    D[key] = value\n",
    "# Check new dictionary\n",
    "print(D)"
   ],
   "outputs": [
    {
     "output_type": "stream",
     "name": "stdout",
     "text": [
      "{'Physics': 42, 'Maths': 87, 'Practical': 48, 'New': 'Ken'}\n",
      "{'Physics': 100, 'Maths': 87, 'Practical': 48, 'New': 'Ken', 'YOLO': False, 'R': 'studio'}\n"
     ]
    }
   ],
   "metadata": {}
  },
  {
   "cell_type": "code",
   "execution_count": 147,
   "source": [
    "# Dictionary\n",
    "print(D)\n",
    "# Deleting entries by key\n",
    "del D['Maths']\n",
    "print(D)"
   ],
   "outputs": [
    {
     "output_type": "stream",
     "name": "stdout",
     "text": [
      "{'Physics': 100, 'Maths': 87, 'Practical': 48, 'New': 'Ken', 'YOLO': False, 'R': 'studio'}\n",
      "{'Physics': 100, 'Practical': 48, 'New': 'Ken', 'YOLO': False, 'R': 'studio'}\n"
     ]
    }
   ],
   "metadata": {}
  },
  {
   "cell_type": "code",
   "execution_count": 151,
   "source": [
    "# Dictionary views\n",
    "print(list(D.keys()))\n",
    "print(list(D.values()))\n",
    "print(list(D.items()))"
   ],
   "outputs": [
    {
     "output_type": "stream",
     "name": "stdout",
     "text": [
      "['Physics', 'Practical', 'New', 'YOLO', 'R']\n",
      "[100, 48, 'Ken', False, 'studio']\n",
      "[('Physics', 100), ('Practical', 48), ('New', 'Ken'), ('YOLO', False), ('R', 'studio')]\n"
     ]
    }
   ],
   "metadata": {}
  },
  {
   "cell_type": "code",
   "execution_count": 159,
   "source": [
    "# Comprehensions\n",
    "D = {x: x ** 4 for x in range(1, 5)} \n",
    "# Take 1 and pair it with the value 1 raised to the power 4\n",
    "# Take 2 and pair it with the value 2 raised to the power 4\n",
    "# Take 3 and pair it with the value 3 raised to the power 4\n",
    "# Take 4 and pair it with the value 4 raised to the power 4\n",
    "print(D)"
   ],
   "outputs": [
    {
     "output_type": "stream",
     "name": "stdout",
     "text": [
      "{1: 1, 2: 16, 3: 81, 4: 256}\n"
     ]
    }
   ],
   "metadata": {}
  },
  {
   "cell_type": "code",
   "execution_count": 162,
   "source": [
    "# Loop over any iterable\n",
    "D = {c: c * 4 for c in 'SPAM'} \n",
    "# Take c in 'SPAM', which is the letter S, and pair it with the value S concatenated 4times\n",
    "# Take c in 'SPAM', which is the letter P, and pair it with the value P concatenated 4 times\n",
    "# Take c in 'SPAM', which is the letter A, and pair it with the value A concatenated 4 times\n",
    "# Take c in 'SPAM', which is the letter M, and pair it with the value M concatenated 4 times\n",
    "print(D)"
   ],
   "outputs": [
    {
     "output_type": "stream",
     "name": "stdout",
     "text": [
      "{'S': 'SSSS', 'P': 'PPPP', 'A': 'AAAA', 'M': 'MMMM'}\n"
     ]
    }
   ],
   "metadata": {}
  },
  {
   "cell_type": "code",
   "execution_count": 163,
   "source": [
    "# Dictionary comprehensions can be useful when initializing a dictionary\n",
    "D = {x:0 for x in ['a', 'b', 'c']} \n",
    "# Each key in ['a', 'b', 'c'] is initialized with the value 0\n",
    "print(D)"
   ],
   "outputs": [
    {
     "output_type": "stream",
     "name": "stdout",
     "text": [
      "{'a': 0, 'b': 0, 'c': 0}\n"
     ]
    }
   ],
   "metadata": {}
  },
  {
   "cell_type": "code",
   "execution_count": 164,
   "source": [
    "# Initialize with None\n",
    "D = {x: None for x in 'spam'}\n",
    "print(D)"
   ],
   "outputs": [
    {
     "output_type": "stream",
     "name": "stdout",
     "text": [
      "{'s': None, 'p': None, 'a': None, 'm': None}\n"
     ]
    }
   ],
   "metadata": {}
  },
  {
   "cell_type": "markdown",
   "source": [
    "### Tuples <a class=\"anchor\" id=\"tuples\"></a>"
   ],
   "metadata": {}
  }
 ],
 "metadata": {
  "orig_nbformat": 4,
  "language_info": {
   "name": "python",
   "version": "3.7.1",
   "mimetype": "text/x-python",
   "codemirror_mode": {
    "name": "ipython",
    "version": 3
   },
   "pygments_lexer": "ipython3",
   "nbconvert_exporter": "python",
   "file_extension": ".py"
  },
  "kernelspec": {
   "name": "python3",
   "display_name": "Python 3.7.1 64-bit ('ds4b_101p': conda)"
  },
  "interpreter": {
   "hash": "6c07ae714608271cea533d8eb3486adcdd1e2854169a82201ff1f2a00fa8cb18"
  }
 },
 "nbformat": 4,
 "nbformat_minor": 2
}