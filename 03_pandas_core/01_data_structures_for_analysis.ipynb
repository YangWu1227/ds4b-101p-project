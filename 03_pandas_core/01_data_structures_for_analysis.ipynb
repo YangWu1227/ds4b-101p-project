{
 "cells": [
  {
   "cell_type": "markdown",
   "source": [
    "# Module 3 (Pandas Core): Data Structures "
   ],
   "metadata": {}
  },
  {
   "cell_type": "markdown",
   "source": [
    "## Table of Contents\n",
    "\n",
    "- [Import Libraries](#import-libraries)\n",
    "- [Objects](#objects)\n",
    "- [Key Data Structure](#key-data-structure)\n",
    "- [Built-in Sequences](#built-in-sequences)\n",
    "    - [List](#list)\n",
    "    - [Dictionary](#dictionary)"
   ],
   "metadata": {}
  },
  {
   "cell_type": "markdown",
   "source": [
    "## Import libraries <a class=\"anchor\" id=\"import-libraries\"></a>"
   ],
   "metadata": {}
  },
  {
   "cell_type": "code",
   "execution_count": 1,
   "source": [
    "import pandas as pd\n",
    "import numpy as mp\n",
    "from pandas_extensions.database import collect_data"
   ],
   "outputs": [],
   "metadata": {}
  },
  {
   "cell_type": "markdown",
   "source": [
    "## Objects <a class=\"anchor\" id=\"objects\"></a>"
   ],
   "metadata": {}
  },
  {
   "cell_type": "code",
   "execution_count": 4,
   "source": [
    "# Import data\n",
    "df = pd.DataFrame(collect_data())\n",
    "# Get object class\n",
    "print(type(df))"
   ],
   "outputs": [
    {
     "output_type": "stream",
     "name": "stdout",
     "text": [
      "<class 'pandas.core.frame.DataFrame'>\n"
     ]
    }
   ],
   "metadata": {}
  },
  {
   "cell_type": "code",
   "execution_count": 5,
   "source": [
    "# Get the object's inheritance structure in the order that methods are searched for\n",
    "print(type(df).mro())"
   ],
   "outputs": [
    {
     "output_type": "stream",
     "name": "stdout",
     "text": [
      "[<class 'pandas.core.frame.DataFrame'>, <class 'pandas.core.generic.NDFrame'>, <class 'pandas.core.base.PandasObject'>, <class 'pandas.core.accessor.DirNamesMixin'>, <class 'pandas.core.base.SelectionMixin'>, <class 'pandas.core.indexing.IndexingMixin'>, <class 'pandas.core.arraylike.OpsMixin'>, <class 'object'>]\n"
     ]
    }
   ],
   "metadata": {}
  },
  {
   "cell_type": "markdown",
   "source": [
    "It turns out that Python's objects get methods and attributes from the classes that they inherit from. The output above is the search path similar to R's pacakge environments. This allows us to use methods from all the classes in the inheritance structure."
   ],
   "metadata": {}
  },
  {
   "cell_type": "code",
   "execution_count": 7,
   "source": [
    "# Objects have attributes\n",
    "# Vscode shows object attributes with the wrench icon\n",
    "print(df.shape)\n"
   ],
   "outputs": [
    {
     "output_type": "stream",
     "name": "stdout",
     "text": [
      "(15644, 13)\n",
      "Index(['order_id', 'order_line', 'order_date', 'quantity', 'price',\n",
      "       'total_revenue', 'model', 'category_1', 'category_2', 'frame_material',\n",
      "       'bikeshop_name', 'city', 'state'],\n",
      "      dtype='object')\n"
     ]
    }
   ],
   "metadata": {}
  },
  {
   "cell_type": "code",
   "execution_count": null,
   "source": [
    "print(df.columns)"
   ],
   "outputs": [],
   "metadata": {}
  },
  {
   "cell_type": "code",
   "execution_count": 54,
   "source": [
    "# Objects have methods\n",
    "# Vscode shows object methods with the cube\n",
    "print(df.query(\"order_id == 3\"))"
   ],
   "outputs": [
    {
     "output_type": "stream",
     "name": "stdout",
     "text": [
      "   order_id  order_line order_date  quantity  price  total_revenue  \\\n",
      "4         3           1 2011-01-10         1  10660          10660   \n",
      "5         3           2 2011-01-10         1   3200           3200   \n",
      "6         3           3 2011-01-10         1  12790          12790   \n",
      "7         3           4 2011-01-10         1   5330           5330   \n",
      "8         3           5 2011-01-10         1   1570           1570   \n",
      "\n",
      "                            model category_1      category_2 frame_material  \\\n",
      "4        Supersix Evo Hi-Mod Team       Road      Elite Road         Carbon   \n",
      "5                 Jekyll Carbon 4   Mountain   Over Mountain         Carbon   \n",
      "6         Supersix Evo Black Inc.       Road      Elite Road         Carbon   \n",
      "7  Supersix Evo Hi-Mod Dura Ace 2       Road      Elite Road         Carbon   \n",
      "8                Synapse Disc 105       Road  Endurance Road       Aluminum   \n",
      "\n",
      "               bikeshop_name        city state  \n",
      "4  Louisville Race Equipment  Louisville    KY  \n",
      "5  Louisville Race Equipment  Louisville    KY  \n",
      "6  Louisville Race Equipment  Louisville    KY  \n",
      "7  Louisville Race Equipment  Louisville    KY  \n",
      "8  Louisville Race Equipment  Louisville    KY  \n"
     ]
    }
   ],
   "metadata": {}
  },
  {
   "cell_type": "markdown",
   "source": [
    "## Key data structure <a class=\"anchor\" id=\"key-data-structure\"></a>\n",
    "\n",
    "Data frame is a key structure that holds Pandas series; it has columns and index attributes. The data frame is an object with many methods."
   ],
   "metadata": {}
  },
  {
   "cell_type": "code",
   "execution_count": 55,
   "source": [
    "# Each column in a data frame is a pandas series\n",
    "print(type(df[\"order_date\"]))"
   ],
   "outputs": [
    {
     "output_type": "stream",
     "name": "stdout",
     "text": [
      "<class 'pandas.core.series.Series'>\n"
     ]
    }
   ],
   "metadata": {}
  },
  {
   "cell_type": "code",
   "execution_count": 56,
   "source": [
    "# Each series has methods that are dependent on its attributes\n",
    "# Accessors can be used to call the series attribute \"dt\" and extract the year from the column\n",
    "df[\"order_date\"].dt.year"
   ],
   "outputs": [
    {
     "output_type": "execute_result",
     "data": {
      "text/plain": [
       "0        2011\n",
       "1        2011\n",
       "2        2011\n",
       "3        2011\n",
       "4        2011\n",
       "         ... \n",
       "15639    2015\n",
       "15640    2015\n",
       "15641    2015\n",
       "15642    2015\n",
       "15643    2015\n",
       "Name: order_date, Length: 15644, dtype: int64"
      ]
     },
     "metadata": {},
     "execution_count": 56
    }
   ],
   "metadata": {}
  },
  {
   "cell_type": "markdown",
   "source": [
    "Pandas series are built on top of Numpy arrays. The series adds an index and meta data like series name. The Numpy array then provides core functionality, like `numpy.sum()`."
   ],
   "metadata": {}
  },
  {
   "cell_type": "code",
   "execution_count": 57,
   "source": [
    "# Acess the array from the series\n",
    "df[\"order_date\"].values"
   ],
   "outputs": [
    {
     "output_type": "execute_result",
     "data": {
      "text/plain": [
       "array(['2011-01-07T00:00:00.000000000', '2011-01-07T00:00:00.000000000',\n",
       "       '2011-01-10T00:00:00.000000000', ...,\n",
       "       '2015-12-25T00:00:00.000000000', '2015-12-25T00:00:00.000000000',\n",
       "       '2015-12-25T00:00:00.000000000'], dtype='datetime64[ns]')"
      ]
     },
     "metadata": {},
     "execution_count": 57
    }
   ],
   "metadata": {}
  },
  {
   "cell_type": "code",
   "execution_count": 58,
   "source": [
    "# Get type\n",
    "type(df[\"order_date\"].values)"
   ],
   "outputs": [
    {
     "output_type": "execute_result",
     "data": {
      "text/plain": [
       "numpy.ndarray"
      ]
     },
     "metadata": {},
     "execution_count": 58
    }
   ],
   "metadata": {}
  },
  {
   "cell_type": "code",
   "execution_count": 60,
   "source": [
    "# The numpy array is actually a low level object that only has \"object\" in its inheritance\n",
    "type(df[\"order_date\"].values).mro()"
   ],
   "outputs": [
    {
     "output_type": "execute_result",
     "data": {
      "text/plain": [
       "[numpy.ndarray, object]"
      ]
     },
     "metadata": {},
     "execution_count": 60
    }
   ],
   "metadata": {}
  },
  {
   "cell_type": "markdown",
   "source": [
    "Numpy data types are extended built-in data types. It uses special data types (e.g. int64), which are usually optimized for memory allocation. "
   ],
   "metadata": {}
  },
  {
   "cell_type": "code",
   "execution_count": 71,
   "source": [
    "# Get classes and the data types that the numpy arrays actually contain\n",
    "print(df[\"price\"].values.dtype)\n",
    "print(df[\"order_date\"].values.dtype)"
   ],
   "outputs": [
    {
     "output_type": "stream",
     "name": "stdout",
     "text": [
      "int64\n",
      "datetime64[ns]\n"
     ]
    }
   ],
   "metadata": {}
  },
  {
   "cell_type": "markdown",
   "source": [
    "## Built-in sequences <a class=\"anchor\" id=\"built-in-sequences\"></a>"
   ],
   "metadata": {}
  },
  {
   "cell_type": "markdown",
   "source": [
    "*Container sequences*\n",
    "\n",
    "- list, tuple, and collections.deque can hold items of different types, including nested containers.\n",
    "\n",
    "*Flat sequences*\n",
    "\n",
    "- str, bytes, bytearray, memoryview, and array.array hold items of one simple type.\n",
    "  \n",
    "Another way to group these sequences is by mutability: \n",
    "\n",
    "*Mutable sequences*\n",
    "\n",
    "- list, bytearray, array.array, collections.deque, and memoryview\n",
    "\n",
    "*Immutable sequences*\n",
    "\n",
    "- tuple, str, and bytes\n",
    "\n",
    "\n",
    "One important distinction between container and flat sequences is: A container sequence holds references to the objects it contains, which may be of any type, while a flat sequence stores the value of its contents in its own memory space, and not as distinct objects. Examine the diagram below:\n",
    "\n",
    "<p align=\"center\">\n",
    "  <img width=\"600\" height=\"250\" img src=\"Image/sequence.png\">\n",
    "</p>\n",
    "\n",
    "Here is a really nice visualization of the Python object ecosystem:\n",
    "\n",
    "<p align=\"center\">\n",
    "  <img width=\"700\" height=\"500\" img src=\"Image/data_structure.png\">\n",
    "</p>\n",
    "\n",
    "[Link](https://medium.com/@meghamohan/mutable-and-immutable-side-of-python-c2145cf72747)\n"
   ],
   "metadata": {}
  },
  {
   "cell_type": "markdown",
   "source": [
    "### List <a class=\"anchor\" id=\"list\"></a>"
   ],
   "metadata": {}
  },
  {
   "cell_type": "code",
   "execution_count": 74,
   "source": [
    "# List operations\n",
    "# Empty list\n",
    "L = []\n",
    "print(L)\n"
   ],
   "outputs": [
    {
     "output_type": "stream",
     "name": "stdout",
     "text": [
      "[]\n",
      "[123, 'abc', 1.23, {}]\n",
      "['Bob', 40.0, ['dev', 'mgr']]\n"
     ]
    },
    {
     "output_type": "execute_result",
     "data": {
      "text/plain": [
       "[-4, -3, -2, -1, 0, 1, 2, 3]"
      ]
     },
     "metadata": {},
     "execution_count": 74
    }
   ],
   "metadata": {}
  },
  {
   "cell_type": "code",
   "execution_count": null,
   "source": [
    "# Create list with 4 elements with indices 0:3\n",
    "L = [123, 'abc', 1.23, {}]\n",
    "print(L)\n"
   ],
   "outputs": [],
   "metadata": {}
  },
  {
   "cell_type": "code",
   "execution_count": 121,
   "source": [
    "# Nested Sublist\n",
    "L = ['Bob', 40.0, ['dev', 'mgr']]\n",
    "print(L)\n"
   ],
   "outputs": [
    {
     "output_type": "stream",
     "name": "stdout",
     "text": [
      "['Bob', 40.0, ['dev', 'mgr']]\n"
     ]
    }
   ],
   "metadata": {}
  },
  {
   "cell_type": "code",
   "execution_count": 122,
   "source": [
    "# List of values from -4 to 4\n",
    "list(range(-4, 4))"
   ],
   "outputs": [
    {
     "output_type": "execute_result",
     "data": {
      "text/plain": [
       "[-4, -3, -2, -1, 0, 1, 2, 3]"
      ]
     },
     "metadata": {},
     "execution_count": 122
    }
   ],
   "metadata": {}
  },
  {
   "cell_type": "code",
   "execution_count": 123,
   "source": [
    "# Subseting\n",
    "L[0]"
   ],
   "outputs": [
    {
     "output_type": "execute_result",
     "data": {
      "text/plain": [
       "'Bob'"
      ]
     },
     "metadata": {},
     "execution_count": 123
    }
   ],
   "metadata": {}
  },
  {
   "cell_type": "code",
   "execution_count": 124,
   "source": [
    "# Index of index\n",
    "# The third elent is a sublist and we extract the fist element from this sublist\n",
    "print(L[2][0])\n",
    "# This should be a string\n",
    "print(type(L[2][0]))"
   ],
   "outputs": [
    {
     "output_type": "stream",
     "name": "stdout",
     "text": [
      "dev\n",
      "<class 'str'>\n"
     ]
    }
   ],
   "metadata": {}
  },
  {
   "cell_type": "code",
   "execution_count": 125,
   "source": [
    "# Slice to subset multiple elements\n",
    "L[0:2]"
   ],
   "outputs": [
    {
     "output_type": "execute_result",
     "data": {
      "text/plain": [
       "['Bob', 40.0]"
      ]
     },
     "metadata": {},
     "execution_count": 125
    }
   ],
   "metadata": {}
  },
  {
   "cell_type": "code",
   "execution_count": 126,
   "source": [
    "# Length is the number of elements\n",
    "len(L)"
   ],
   "outputs": [
    {
     "output_type": "execute_result",
     "data": {
      "text/plain": [
       "3"
      ]
     },
     "metadata": {},
     "execution_count": 126
    }
   ],
   "metadata": {}
  },
  {
   "cell_type": "code",
   "execution_count": 127,
   "source": [
    "# Concatenate, repeat\n",
    "print(L * 2)\n",
    "print(L + L + L)"
   ],
   "outputs": [
    {
     "output_type": "stream",
     "name": "stdout",
     "text": [
      "['Bob', 40.0, ['dev', 'mgr'], 'Bob', 40.0, ['dev', 'mgr']]\n",
      "['Bob', 40.0, ['dev', 'mgr'], 'Bob', 40.0, ['dev', 'mgr'], 'Bob', 40.0, ['dev', 'mgr']]\n"
     ]
    }
   ],
   "metadata": {}
  },
  {
   "cell_type": "code",
   "execution_count": 128,
   "source": [
    "# Iteration\n",
    "for var in L: print(var)"
   ],
   "outputs": [
    {
     "output_type": "stream",
     "name": "stdout",
     "text": [
      "Bob\n",
      "40.0\n",
      "['dev', 'mgr']\n"
     ]
    }
   ],
   "metadata": {}
  },
  {
   "cell_type": "code",
   "execution_count": 129,
   "source": [
    "# Membership (are these elements in the list)\n",
    "print(3 in L)\n",
    "print(\"Bob\" in L)"
   ],
   "outputs": [
    {
     "output_type": "stream",
     "name": "stdout",
     "text": [
      "False\n",
      "True\n"
     ]
    }
   ],
   "metadata": {}
  },
  {
   "cell_type": "code",
   "execution_count": 132,
   "source": [
    "# Method grow\n",
    "# A list is mutable and modifies in place and so growing in will not be memory inefficient like R\n",
    "L.append(False)\n",
    "print(L)"
   ],
   "outputs": [
    {
     "output_type": "stream",
     "name": "stdout",
     "text": [
      "['Bob', 40.0, ['dev', 'mgr'], False]\n"
     ]
    }
   ],
   "metadata": {}
  },
  {
   "cell_type": "code",
   "execution_count": 133,
   "source": [
    "# Method extend\n",
    "L.extend([5, 6, 7])\n",
    "print(L)"
   ],
   "outputs": [
    {
     "output_type": "stream",
     "name": "stdout",
     "text": [
      "['Bob', 40.0, ['dev', 'mgr'], False, 5, 6, 7]\n"
     ]
    }
   ],
   "metadata": {}
  },
  {
   "cell_type": "code",
   "execution_count": 134,
   "source": [
    "# Method insert\n",
    "# Insert string object as the fifth element\n",
    "L.insert(4, \"Ken\")\n",
    "print(L)"
   ],
   "outputs": [
    {
     "output_type": "stream",
     "name": "stdout",
     "text": [
      "['Bob', 40.0, ['dev', 'mgr'], False, 'Ken', 5, 6, 7]\n"
     ]
    }
   ],
   "metadata": {}
  },
  {
   "cell_type": "code",
   "execution_count": 140,
   "source": [
    "# Method searching\n",
    "# Get the index of the element\n",
    "# This is similar to match() in R\n",
    "print(L)\n",
    "print(L.index(\"Ken\"))\n",
    "print(L.index(40))"
   ],
   "outputs": [
    {
     "output_type": "stream",
     "name": "stdout",
     "text": [
      "['Bob', 40.0, ['dev', 'mgr'], False, 'Ken', 5, 6, 7]\n",
      "4\n",
      "1\n"
     ]
    }
   ],
   "metadata": {}
  },
  {
   "cell_type": "code",
   "execution_count": 141,
   "source": [
    "# Method Count returns the number of elements with the specified value\n",
    "L.count()"
   ],
   "outputs": [
    {
     "output_type": "execute_result",
     "data": {
      "text/plain": [
       "1"
      ]
     },
     "metadata": {},
     "execution_count": 141
    }
   ],
   "metadata": {}
  },
  {
   "cell_type": "code",
   "execution_count": 146,
   "source": [
    "# Sort by ascending order by default, i.e., reverse=False\n",
    "L_1 = [3, 4, 9, 3, 2, 24, 45, 13, 9]\n",
    "L_1.sort(reverse=True)\n",
    "print(L_1)"
   ],
   "outputs": [
    {
     "output_type": "stream",
     "name": "stdout",
     "text": [
      "[2, 3, 3, 4, 9, 9, 13, 24, 45]\n"
     ]
    }
   ],
   "metadata": {}
  },
  {
   "cell_type": "code",
   "execution_count": 154,
   "source": [
    "# Reverses the list\n",
    "L_2 = [3, 4, 5, 7]\n",
    "L_2.reverse()\n",
    "print(L_2)"
   ],
   "outputs": [
    {
     "output_type": "stream",
     "name": "stdout",
     "text": [
      "[7, 5, 4, 3]\n"
     ]
    }
   ],
   "metadata": {}
  },
  {
   "cell_type": "code",
   "execution_count": 163,
   "source": [
    "# Copy creates a copy of the list\n",
    "L_new = L.copy()\n",
    "# Copy on modify\n",
    "L_new[2] = 9\n",
    "# Check new modified copy\n",
    "print(L_new)\n",
    "# Check original object (should be unchanged)\n",
    "print(L)\n"
   ],
   "outputs": [
    {
     "output_type": "stream",
     "name": "stdout",
     "text": [
      "[7, 6, 9, False, ['dev', 'mgr'], 40.0, 'Bob']\n",
      "[7, 6, 4, False, ['dev', 'mgr'], 40.0, 'Bob']\n"
     ]
    }
   ],
   "metadata": {}
  },
  {
   "cell_type": "code",
   "execution_count": 172,
   "source": [
    "# Before clear\n",
    "print(L_1)\n",
    "print(L_2)\n",
    "L_1.clear()\n",
    "L_2.clear()\n",
    "# Clear all elements\n",
    "print(L_1)\n",
    "print(L_2)"
   ],
   "outputs": [
    {
     "output_type": "stream",
     "name": "stdout",
     "text": [
      "[]\n",
      "[]\n",
      "[]\n",
      "[]\n"
     ]
    }
   ],
   "metadata": {}
  },
  {
   "cell_type": "code",
   "execution_count": 173,
   "source": [
    "# Pop removes element at the specified position\n",
    "print(L)\n",
    "L.pop(2)\n",
    "print(L)"
   ],
   "outputs": [
    {
     "output_type": "stream",
     "name": "stdout",
     "text": [
      "[7, 6, 4, False, ['dev', 'mgr'], 40.0, 'Bob']\n",
      "[7, 6, False, ['dev', 'mgr'], 40.0, 'Bob']\n"
     ]
    }
   ],
   "metadata": {}
  },
  {
   "cell_type": "code",
   "execution_count": 174,
   "source": [
    "# Another way to remove by position\n",
    "print(L)\n",
    "del L[0]\n",
    "print(L)"
   ],
   "outputs": [
    {
     "output_type": "stream",
     "name": "stdout",
     "text": [
      "[7, 6, False, ['dev', 'mgr'], 40.0, 'Bob']\n",
      "[6, False, ['dev', 'mgr'], 40.0, 'Bob']\n"
     ]
    }
   ],
   "metadata": {}
  },
  {
   "cell_type": "code",
   "execution_count": 175,
   "source": [
    "# Remove by name\n",
    "print(L)\n",
    "L.remove(False)\n",
    "print(L)"
   ],
   "outputs": [
    {
     "output_type": "stream",
     "name": "stdout",
     "text": [
      "[6, False, ['dev', 'mgr'], 40.0, 'Bob']\n",
      "[6, ['dev', 'mgr'], 40.0, 'Bob']\n"
     ]
    }
   ],
   "metadata": {}
  },
  {
   "cell_type": "code",
   "execution_count": 178,
   "source": [
    "# Remove slices\n",
    "print(L_new)\n",
    "del L_new[0:3]\n",
    "print(L_new)"
   ],
   "outputs": [
    {
     "output_type": "stream",
     "name": "stdout",
     "text": [
      "[7, ['dev', 'mgr'], 40.0, 'Bob']\n",
      "['Bob']\n"
     ]
    }
   ],
   "metadata": {}
  },
  {
   "cell_type": "code",
   "execution_count": 200,
   "source": [
    "# Subset and assignment\n",
    "# This is similar to list[1:3] <- NULL in R\n",
    "L = [3, \"ken\", [2, \"3\"], True]\n",
    "print(L)\n",
    "L[0:2] = []\n",
    "print(L)"
   ],
   "outputs": [
    {
     "output_type": "stream",
     "name": "stdout",
     "text": [
      "[3, 'ken', [2, '3'], True]\n",
      "[[2, '3'], True]\n"
     ]
    }
   ],
   "metadata": {}
  },
  {
   "cell_type": "code",
   "execution_count": 201,
   "source": [
    "# Subset one specific element and assign\n",
    "print(L)\n",
    "L[1] = 3\n",
    "print(L)"
   ],
   "outputs": [
    {
     "output_type": "stream",
     "name": "stdout",
     "text": [
      "[[2, '3'], True]\n",
      "[[2, '3'], 3]\n"
     ]
    }
   ],
   "metadata": {}
  },
  {
   "cell_type": "code",
   "execution_count": 204,
   "source": [
    "# Subset a slice and assign\n",
    "L = list(range(-4, 5))\n",
    "print(L)\n",
    "L[3:7] = [\"Ken\", \"needs\", \"a\", \"job\", \"now\"]\n",
    "print(L)"
   ],
   "outputs": [
    {
     "output_type": "stream",
     "name": "stdout",
     "text": [
      "[-4, -3, -2, -1, 0, 1, 2, 3, 4]\n",
      "[-4, -3, -2, 'Ken', 'needs', 'a', 'job', 'now', 3, 4]\n"
     ]
    }
   ],
   "metadata": {}
  },
  {
   "cell_type": "markdown",
   "source": [
    "### Dictionary <a class=\"anchor\" id=\"dictionary\"></a>"
   ],
   "metadata": {}
  }
 ],
 "metadata": {
  "orig_nbformat": 4,
  "language_info": {
   "name": "python",
   "version": "3.7.1",
   "mimetype": "text/x-python",
   "codemirror_mode": {
    "name": "ipython",
    "version": 3
   },
   "pygments_lexer": "ipython3",
   "nbconvert_exporter": "python",
   "file_extension": ".py"
  },
  "kernelspec": {
   "name": "python3",
   "display_name": "Python 3.7.1 64-bit ('ds4b_101p': conda)"
  },
  "interpreter": {
   "hash": "6c07ae714608271cea533d8eb3486adcdd1e2854169a82201ff1f2a00fa8cb18"
  }
 },
 "nbformat": 4,
 "nbformat_minor": 2
}